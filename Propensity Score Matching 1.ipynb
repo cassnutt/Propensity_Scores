{
 "cells": [
  {
   "cell_type": "markdown",
   "id": "17c8ae04",
   "metadata": {},
   "source": [
    "## Sources:\n",
    "\n",
    "- Kaggle datasets: [link to datasets](https://www.kaggle.com/datasets/harrywang/propensity-score-matching?select=employment.csv)\n",
    "\n",
    "- [Kaggle submission](https://www.kaggle.com/code/harrywang/propensity-score-matching-in-python)\n",
    "\n",
    "- [PSMPY library article on Medium](https://towardsdatascience.com/psmpy-propensity-score-matching-in-python-a3e0cd4d2631)\n",
    "\n",
    "- [Propensity Score Matching on Smokers dataset - "
   ]
  },
  {
   "cell_type": "code",
   "execution_count": null,
   "id": "75579156",
   "metadata": {},
   "outputs": [],
   "source": []
  }
 ],
 "metadata": {
  "kernelspec": {
   "display_name": "Python [conda env:learn-env]",
   "language": "python",
   "name": "conda-env-learn-env-py"
  },
  "language_info": {
   "codemirror_mode": {
    "name": "ipython",
    "version": 3
   },
   "file_extension": ".py",
   "mimetype": "text/x-python",
   "name": "python",
   "nbconvert_exporter": "python",
   "pygments_lexer": "ipython3",
   "version": "3.8.5"
  },
  "toc": {
   "base_numbering": 1,
   "nav_menu": {},
   "number_sections": true,
   "sideBar": true,
   "skip_h1_title": true,
   "title_cell": "Table of Contents",
   "title_sidebar": "Contents",
   "toc_cell": false,
   "toc_position": {},
   "toc_section_display": true,
   "toc_window_display": false
  },
  "varInspector": {
   "cols": {
    "lenName": 16,
    "lenType": 16,
    "lenVar": 40
   },
   "kernels_config": {
    "python": {
     "delete_cmd_postfix": "",
     "delete_cmd_prefix": "del ",
     "library": "var_list.py",
     "varRefreshCmd": "print(var_dic_list())"
    },
    "r": {
     "delete_cmd_postfix": ") ",
     "delete_cmd_prefix": "rm(",
     "library": "var_list.r",
     "varRefreshCmd": "cat(var_dic_list()) "
    }
   },
   "types_to_exclude": [
    "module",
    "function",
    "builtin_function_or_method",
    "instance",
    "_Feature"
   ],
   "window_display": false
  }
 },
 "nbformat": 4,
 "nbformat_minor": 5
}
