{
 "cells": [
  {
   "cell_type": "markdown",
   "id": "5858060f",
   "metadata": {},
   "source": [
    "## Sources:\n",
    "\n",
    "- Kaggle datasets: [link to datasets](https://www.kaggle.com/datasets/harrywang/propensity-score-matching?select=employment.csv)\n",
    "\n",
    "- [Kaggle submission](https://www.kaggle.com/code/harrywang/propensity-score-matching-in-python)\n",
    "\n",
    "- [PSMPY library article on Medium](https://towardsdatascience.com/psmpy-propensity-score-matching-in-python-a3e0cd4d2631)\n",
    "\n",
    "- [Propensity Score Matching on Smokers dataset - Medium article](https://towardsdatascience.com/a-hands-on-introduction-to-propensity-score-use-for-beginners-856302b632ac)"
   ]
  },
  {
   "cell_type": "code",
   "execution_count": 1,
   "id": "835237ca",
   "metadata": {
    "ExecuteTime": {
     "end_time": "2023-03-31T01:46:37.341495Z",
     "start_time": "2023-03-31T01:46:35.858514Z"
    }
   },
   "outputs": [],
   "source": [
    "# import libraries\n",
    "import pandas as pd\n",
    "import numpy as np\n",
    "import matplotlib.pyplot as plt\n",
    "%matplotlib inline\n",
    "import seaborn as sns\n",
    "sns.set_style('whitegrid')\n",
    "\n",
    "import warnings\n",
    "warnings.filterwarnings('ignore')"
   ]
  },
  {
   "cell_type": "markdown",
   "id": "978a78e7",
   "metadata": {},
   "source": [
    "## Groupon Dataset\n",
    "\n",
    "- deal_id: the ID of the deal\n",
    "- start_date: the starting date of the deal\n",
    "- min_req: minimal number of orders for the deal to work\n",
    "- treatment: 1 if has min_req, 0 otherwise\n",
    "- prom_length: the length of the deal\n",
    "- price: unit price of the item\n",
    "- discount_pct: discount percentage\n",
    "- coupon_duration: coupon duration\n",
    "- featured: whether the deal is featured or not\n",
    "- limited_supply: whether the supply of the item is limited or not\n",
    "- fb_likes: Facebook likes received\n",
    "- quantity_sold: quantity sold\n",
    "- revenue: revenue of the deal"
   ]
  },
  {
   "cell_type": "code",
   "execution_count": 2,
   "id": "778c0e01",
   "metadata": {
    "ExecuteTime": {
     "end_time": "2023-03-31T01:47:47.483187Z",
     "start_time": "2023-03-31T01:47:47.462221Z"
    }
   },
   "outputs": [
    {
     "data": {
      "text/html": [
       "<div>\n",
       "<style scoped>\n",
       "    .dataframe tbody tr th:only-of-type {\n",
       "        vertical-align: middle;\n",
       "    }\n",
       "\n",
       "    .dataframe tbody tr th {\n",
       "        vertical-align: top;\n",
       "    }\n",
       "\n",
       "    .dataframe thead th {\n",
       "        text-align: right;\n",
       "    }\n",
       "</style>\n",
       "<table border=\"1\" class=\"dataframe\">\n",
       "  <thead>\n",
       "    <tr style=\"text-align: right;\">\n",
       "      <th></th>\n",
       "      <th>deal_id</th>\n",
       "      <th>start_date</th>\n",
       "      <th>min_req</th>\n",
       "      <th>treatment</th>\n",
       "      <th>prom_length</th>\n",
       "      <th>price</th>\n",
       "      <th>discount_pct</th>\n",
       "      <th>coupon_duration</th>\n",
       "      <th>featured</th>\n",
       "      <th>limited_supply</th>\n",
       "      <th>fb_likes</th>\n",
       "      <th>quantity_sold</th>\n",
       "      <th>revenue</th>\n",
       "    </tr>\n",
       "  </thead>\n",
       "  <tbody>\n",
       "    <tr>\n",
       "      <th>0</th>\n",
       "      <td>heli-flights</td>\n",
       "      <td>9/23/2011</td>\n",
       "      <td>10</td>\n",
       "      <td>1</td>\n",
       "      <td>4</td>\n",
       "      <td>99</td>\n",
       "      <td>51</td>\n",
       "      <td>185</td>\n",
       "      <td>1</td>\n",
       "      <td>1</td>\n",
       "      <td>290</td>\n",
       "      <td>540</td>\n",
       "      <td>53460</td>\n",
       "    </tr>\n",
       "    <tr>\n",
       "      <th>1</th>\n",
       "      <td>gl-champion-series-tennis-electric-factory</td>\n",
       "      <td>9/23/2011</td>\n",
       "      <td>20</td>\n",
       "      <td>1</td>\n",
       "      <td>2</td>\n",
       "      <td>95</td>\n",
       "      <td>41</td>\n",
       "      <td>9</td>\n",
       "      <td>0</td>\n",
       "      <td>1</td>\n",
       "      <td>43</td>\n",
       "      <td>190</td>\n",
       "      <td>18050</td>\n",
       "    </tr>\n",
       "    <tr>\n",
       "      <th>2</th>\n",
       "      <td>realm-of-terror-horror-experience</td>\n",
       "      <td>9/23/2011</td>\n",
       "      <td>50</td>\n",
       "      <td>1</td>\n",
       "      <td>3</td>\n",
       "      <td>25</td>\n",
       "      <td>50</td>\n",
       "      <td>38</td>\n",
       "      <td>0</td>\n",
       "      <td>1</td>\n",
       "      <td>208</td>\n",
       "      <td>380</td>\n",
       "      <td>9500</td>\n",
       "    </tr>\n",
       "    <tr>\n",
       "      <th>3</th>\n",
       "      <td>newport-gourmet</td>\n",
       "      <td>9/23/2011</td>\n",
       "      <td>15</td>\n",
       "      <td>1</td>\n",
       "      <td>3</td>\n",
       "      <td>50</td>\n",
       "      <td>50</td>\n",
       "      <td>369</td>\n",
       "      <td>0</td>\n",
       "      <td>1</td>\n",
       "      <td>16</td>\n",
       "      <td>90</td>\n",
       "      <td>4500</td>\n",
       "    </tr>\n",
       "    <tr>\n",
       "      <th>4</th>\n",
       "      <td>the-clayroom</td>\n",
       "      <td>9/23/2011</td>\n",
       "      <td>20</td>\n",
       "      <td>1</td>\n",
       "      <td>4</td>\n",
       "      <td>25</td>\n",
       "      <td>52</td>\n",
       "      <td>185</td>\n",
       "      <td>0</td>\n",
       "      <td>1</td>\n",
       "      <td>85</td>\n",
       "      <td>580</td>\n",
       "      <td>14500</td>\n",
       "    </tr>\n",
       "  </tbody>\n",
       "</table>\n",
       "</div>"
      ],
      "text/plain": [
       "                                      deal_id start_date  min_req  treatment  \\\n",
       "0                                heli-flights  9/23/2011       10          1   \n",
       "1  gl-champion-series-tennis-electric-factory  9/23/2011       20          1   \n",
       "2           realm-of-terror-horror-experience  9/23/2011       50          1   \n",
       "3                             newport-gourmet  9/23/2011       15          1   \n",
       "4                                the-clayroom  9/23/2011       20          1   \n",
       "\n",
       "   prom_length  price  discount_pct  coupon_duration  featured  \\\n",
       "0            4     99            51              185         1   \n",
       "1            2     95            41                9         0   \n",
       "2            3     25            50               38         0   \n",
       "3            3     50            50              369         0   \n",
       "4            4     25            52              185         0   \n",
       "\n",
       "   limited_supply  fb_likes  quantity_sold  revenue  \n",
       "0               1       290            540    53460  \n",
       "1               1        43            190    18050  \n",
       "2               1       208            380     9500  \n",
       "3               1        16             90     4500  \n",
       "4               1        85            580    14500  "
      ]
     },
     "execution_count": 2,
     "metadata": {},
     "output_type": "execute_result"
    }
   ],
   "source": [
    "gpn_df = pd.read_csv('groupon.csv')\n",
    "gpn_df.head()"
   ]
  },
  {
   "cell_type": "code",
   "execution_count": 4,
   "id": "c69de252",
   "metadata": {
    "ExecuteTime": {
     "end_time": "2023-03-31T01:50:40.153905Z",
     "start_time": "2023-03-31T01:50:40.142651Z"
    },
    "scrolled": true
   },
   "outputs": [
    {
     "name": "stdout",
     "output_type": "stream",
     "text": [
      "<class 'pandas.core.frame.DataFrame'>\n",
      "RangeIndex: 710 entries, 0 to 709\n",
      "Data columns (total 13 columns):\n",
      " #   Column           Non-Null Count  Dtype \n",
      "---  ------           --------------  ----- \n",
      " 0   deal_id          710 non-null    object\n",
      " 1   start_date       710 non-null    object\n",
      " 2   min_req          710 non-null    int64 \n",
      " 3   treatment        710 non-null    int64 \n",
      " 4   prom_length      710 non-null    int64 \n",
      " 5   price            710 non-null    int64 \n",
      " 6   discount_pct     710 non-null    int64 \n",
      " 7   coupon_duration  710 non-null    int64 \n",
      " 8   featured         710 non-null    int64 \n",
      " 9   limited_supply   710 non-null    int64 \n",
      " 10  fb_likes         710 non-null    int64 \n",
      " 11  quantity_sold    710 non-null    int64 \n",
      " 12  revenue          710 non-null    int64 \n",
      "dtypes: int64(11), object(2)\n",
      "memory usage: 72.2+ KB\n"
     ]
    }
   ],
   "source": [
    "gpn_df.info()"
   ]
  },
  {
   "cell_type": "markdown",
   "id": "cf83874a",
   "metadata": {},
   "source": [
    "No missing data. Only deal_id and start_date are categorical."
   ]
  },
  {
   "cell_type": "code",
   "execution_count": 5,
   "id": "b32f8aef",
   "metadata": {
    "ExecuteTime": {
     "end_time": "2023-03-31T01:51:37.320274Z",
     "start_time": "2023-03-31T01:51:37.279484Z"
    }
   },
   "outputs": [
    {
     "data": {
      "text/html": [
       "<div>\n",
       "<style scoped>\n",
       "    .dataframe tbody tr th:only-of-type {\n",
       "        vertical-align: middle;\n",
       "    }\n",
       "\n",
       "    .dataframe tbody tr th {\n",
       "        vertical-align: top;\n",
       "    }\n",
       "\n",
       "    .dataframe thead th {\n",
       "        text-align: right;\n",
       "    }\n",
       "</style>\n",
       "<table border=\"1\" class=\"dataframe\">\n",
       "  <thead>\n",
       "    <tr style=\"text-align: right;\">\n",
       "      <th></th>\n",
       "      <th>count</th>\n",
       "      <th>mean</th>\n",
       "      <th>std</th>\n",
       "      <th>min</th>\n",
       "      <th>25%</th>\n",
       "      <th>50%</th>\n",
       "      <th>75%</th>\n",
       "      <th>max</th>\n",
       "    </tr>\n",
       "  </thead>\n",
       "  <tbody>\n",
       "    <tr>\n",
       "      <th>min_req</th>\n",
       "      <td>710.0</td>\n",
       "      <td>8.759155</td>\n",
       "      <td>27.880963</td>\n",
       "      <td>1.0</td>\n",
       "      <td>1.0</td>\n",
       "      <td>1.0</td>\n",
       "      <td>5.0</td>\n",
       "      <td>300.0</td>\n",
       "    </tr>\n",
       "    <tr>\n",
       "      <th>treatment</th>\n",
       "      <td>710.0</td>\n",
       "      <td>0.304225</td>\n",
       "      <td>0.460403</td>\n",
       "      <td>0.0</td>\n",
       "      <td>0.0</td>\n",
       "      <td>0.0</td>\n",
       "      <td>1.0</td>\n",
       "      <td>1.0</td>\n",
       "    </tr>\n",
       "    <tr>\n",
       "      <th>prom_length</th>\n",
       "      <td>710.0</td>\n",
       "      <td>3.678873</td>\n",
       "      <td>1.323959</td>\n",
       "      <td>2.0</td>\n",
       "      <td>3.0</td>\n",
       "      <td>3.0</td>\n",
       "      <td>4.0</td>\n",
       "      <td>9.0</td>\n",
       "    </tr>\n",
       "    <tr>\n",
       "      <th>price</th>\n",
       "      <td>710.0</td>\n",
       "      <td>35.300000</td>\n",
       "      <td>36.356624</td>\n",
       "      <td>5.0</td>\n",
       "      <td>15.0</td>\n",
       "      <td>24.0</td>\n",
       "      <td>39.0</td>\n",
       "      <td>299.0</td>\n",
       "    </tr>\n",
       "    <tr>\n",
       "      <th>discount_pct</th>\n",
       "      <td>710.0</td>\n",
       "      <td>53.061972</td>\n",
       "      <td>8.190716</td>\n",
       "      <td>0.0</td>\n",
       "      <td>50.0</td>\n",
       "      <td>51.0</td>\n",
       "      <td>56.0</td>\n",
       "      <td>85.0</td>\n",
       "    </tr>\n",
       "    <tr>\n",
       "      <th>coupon_duration</th>\n",
       "      <td>710.0</td>\n",
       "      <td>106.863380</td>\n",
       "      <td>128.155130</td>\n",
       "      <td>0.0</td>\n",
       "      <td>11.0</td>\n",
       "      <td>75.0</td>\n",
       "      <td>185.0</td>\n",
       "      <td>1812.0</td>\n",
       "    </tr>\n",
       "    <tr>\n",
       "      <th>featured</th>\n",
       "      <td>710.0</td>\n",
       "      <td>0.116901</td>\n",
       "      <td>0.321529</td>\n",
       "      <td>0.0</td>\n",
       "      <td>0.0</td>\n",
       "      <td>0.0</td>\n",
       "      <td>0.0</td>\n",
       "      <td>1.0</td>\n",
       "    </tr>\n",
       "    <tr>\n",
       "      <th>limited_supply</th>\n",
       "      <td>710.0</td>\n",
       "      <td>0.829577</td>\n",
       "      <td>0.376269</td>\n",
       "      <td>0.0</td>\n",
       "      <td>1.0</td>\n",
       "      <td>1.0</td>\n",
       "      <td>1.0</td>\n",
       "      <td>1.0</td>\n",
       "    </tr>\n",
       "    <tr>\n",
       "      <th>fb_likes</th>\n",
       "      <td>710.0</td>\n",
       "      <td>88.669014</td>\n",
       "      <td>150.282551</td>\n",
       "      <td>0.0</td>\n",
       "      <td>17.0</td>\n",
       "      <td>40.5</td>\n",
       "      <td>99.0</td>\n",
       "      <td>1596.0</td>\n",
       "    </tr>\n",
       "    <tr>\n",
       "      <th>quantity_sold</th>\n",
       "      <td>710.0</td>\n",
       "      <td>386.652113</td>\n",
       "      <td>663.358446</td>\n",
       "      <td>0.0</td>\n",
       "      <td>70.0</td>\n",
       "      <td>190.0</td>\n",
       "      <td>480.0</td>\n",
       "      <td>5000.0</td>\n",
       "    </tr>\n",
       "    <tr>\n",
       "      <th>revenue</th>\n",
       "      <td>710.0</td>\n",
       "      <td>10642.701408</td>\n",
       "      <td>18131.366995</td>\n",
       "      <td>0.0</td>\n",
       "      <td>1565.0</td>\n",
       "      <td>5000.0</td>\n",
       "      <td>12450.0</td>\n",
       "      <td>210000.0</td>\n",
       "    </tr>\n",
       "  </tbody>\n",
       "</table>\n",
       "</div>"
      ],
      "text/plain": [
       "                 count          mean           std  min     25%     50%  \\\n",
       "min_req          710.0      8.759155     27.880963  1.0     1.0     1.0   \n",
       "treatment        710.0      0.304225      0.460403  0.0     0.0     0.0   \n",
       "prom_length      710.0      3.678873      1.323959  2.0     3.0     3.0   \n",
       "price            710.0     35.300000     36.356624  5.0    15.0    24.0   \n",
       "discount_pct     710.0     53.061972      8.190716  0.0    50.0    51.0   \n",
       "coupon_duration  710.0    106.863380    128.155130  0.0    11.0    75.0   \n",
       "featured         710.0      0.116901      0.321529  0.0     0.0     0.0   \n",
       "limited_supply   710.0      0.829577      0.376269  0.0     1.0     1.0   \n",
       "fb_likes         710.0     88.669014    150.282551  0.0    17.0    40.5   \n",
       "quantity_sold    710.0    386.652113    663.358446  0.0    70.0   190.0   \n",
       "revenue          710.0  10642.701408  18131.366995  0.0  1565.0  5000.0   \n",
       "\n",
       "                     75%       max  \n",
       "min_req              5.0     300.0  \n",
       "treatment            1.0       1.0  \n",
       "prom_length          4.0       9.0  \n",
       "price               39.0     299.0  \n",
       "discount_pct        56.0      85.0  \n",
       "coupon_duration    185.0    1812.0  \n",
       "featured             0.0       1.0  \n",
       "limited_supply       1.0       1.0  \n",
       "fb_likes            99.0    1596.0  \n",
       "quantity_sold      480.0    5000.0  \n",
       "revenue          12450.0  210000.0  "
      ]
     },
     "execution_count": 5,
     "metadata": {},
     "output_type": "execute_result"
    }
   ],
   "source": [
    "gpn_df.describe().T"
   ]
  },
  {
   "cell_type": "code",
   "execution_count": 8,
   "id": "d0cf1a39",
   "metadata": {
    "ExecuteTime": {
     "end_time": "2023-03-31T01:53:14.754341Z",
     "start_time": "2023-03-31T01:53:14.745137Z"
    },
    "scrolled": true
   },
   "outputs": [
    {
     "name": "stdout",
     "output_type": "stream",
     "text": [
      "0    494\n",
      "1    216\n",
      "Name: treatment, dtype: int64\n",
      "----------------\n"
     ]
    },
    {
     "data": {
      "text/plain": [
       "0    0.695775\n",
       "1    0.304225\n",
       "Name: treatment, dtype: float64"
      ]
     },
     "execution_count": 8,
     "metadata": {},
     "output_type": "execute_result"
    }
   ],
   "source": [
    "print (gpn_df.treatment.value_counts())\n",
    "print('----------------')\n",
    "gpn_df.treatment.value_counts(normalize= True)"
   ]
  },
  {
   "cell_type": "markdown",
   "id": "f6c274ad",
   "metadata": {},
   "source": [
    "Look at different start dates"
   ]
  },
  {
   "cell_type": "code",
   "execution_count": 9,
   "id": "ea50a674",
   "metadata": {
    "ExecuteTime": {
     "end_time": "2023-03-31T02:00:31.660738Z",
     "start_time": "2023-03-31T02:00:31.655853Z"
    }
   },
   "outputs": [
    {
     "data": {
      "text/plain": [
       "195"
      ]
     },
     "execution_count": 9,
     "metadata": {},
     "output_type": "execute_result"
    }
   ],
   "source": [
    "gpn_df.start_date.nunique()"
   ]
  },
  {
   "cell_type": "code",
   "execution_count": 20,
   "id": "17cbb88f",
   "metadata": {
    "ExecuteTime": {
     "end_time": "2023-03-31T02:06:12.401766Z",
     "start_time": "2023-03-31T02:06:12.395281Z"
    }
   },
   "outputs": [
    {
     "data": {
      "text/plain": [
       "2/2/2012      11\n",
       "7/30/2012     10\n",
       "2/9/2012      10\n",
       "6/27/2012     10\n",
       "2/7/2012       9\n",
       "              ..\n",
       "1/24/2012      1\n",
       "2/10/2012      1\n",
       "5/26/2012      1\n",
       "11/24/2011     1\n",
       "2/3/2012       1\n",
       "Name: start_date, Length: 195, dtype: int64"
      ]
     },
     "execution_count": 20,
     "metadata": {},
     "output_type": "execute_result"
    }
   ],
   "source": [
    "# gpn_df.start_date.sample(15)\n",
    "gpn_df.start_date.value_counts()"
   ]
  },
  {
   "cell_type": "code",
   "execution_count": 19,
   "id": "2aa736ec",
   "metadata": {
    "ExecuteTime": {
     "end_time": "2023-03-31T02:05:23.932812Z",
     "start_time": "2023-03-31T02:05:23.926125Z"
    }
   },
   "outputs": [
    {
     "data": {
      "text/plain": [
       "2012    516\n",
       "2011    194\n",
       "Name: start_date, dtype: int64"
      ]
     },
     "execution_count": 19,
     "metadata": {},
     "output_type": "execute_result"
    }
   ],
   "source": [
    "# data is mostly from 2012, some from 2011\n",
    "gpn_df.start_date.str[-4:].value_counts()"
   ]
  },
  {
   "cell_type": "markdown",
   "id": "1b970d2d",
   "metadata": {},
   "source": [
    "Are there duplicate deal_ids?"
   ]
  },
  {
   "cell_type": "code",
   "execution_count": 22,
   "id": "59a0ef35",
   "metadata": {
    "ExecuteTime": {
     "end_time": "2023-03-31T02:07:54.598503Z",
     "start_time": "2023-03-31T02:07:54.594285Z"
    }
   },
   "outputs": [
    {
     "data": {
      "text/plain": [
       "False"
      ]
     },
     "execution_count": 22,
     "metadata": {},
     "output_type": "execute_result"
    }
   ],
   "source": [
    "# deal id names are unique - no duplicates\n",
    "gpn_df.deal_id.duplicated().any()"
   ]
  },
  {
   "cell_type": "markdown",
   "id": "f05a9178",
   "metadata": {},
   "source": [
    "### Step 1: Do we have a treatment / intervention / target??\n",
    "\n",
    "Yes, Groupon dataset has column treatment, that is either a 0 or 1 indicating the 2 groups to compare."
   ]
  },
  {
   "cell_type": "markdown",
   "id": "d9558d5f",
   "metadata": {},
   "source": [
    "## Use PsmPy\n",
    "\n",
    "- pip install psmpy\n",
    "- [Documentation](https://pypi.org/project/psmpy/)\n"
   ]
  },
  {
   "cell_type": "code",
   "execution_count": 24,
   "id": "7654976a",
   "metadata": {
    "ExecuteTime": {
     "end_time": "2023-03-31T02:11:30.991457Z",
     "start_time": "2023-03-31T02:11:30.543941Z"
    }
   },
   "outputs": [],
   "source": [
    "from psmpy import PsmPy\n",
    "from psmpy.functions import cohenD\n",
    "from psmpy.plotting import *"
   ]
  },
  {
   "cell_type": "code",
   "execution_count": 33,
   "id": "032ef9fe",
   "metadata": {
    "ExecuteTime": {
     "end_time": "2023-03-31T02:21:58.820796Z",
     "start_time": "2023-03-31T02:21:58.808465Z"
    }
   },
   "outputs": [],
   "source": [
    "# load data into package\n",
    "# dropped start_date due to categ , dropped min_req due to error in knn matching step : \n",
    "#     ValueError: Input contains NaN, infinity or a value too large for dtype('float64')\n",
    "psm = PsmPy(gpn_df, treatment= 'treatment', indx= 'deal_id', exclude = ['start_date', 'min_req'])"
   ]
  },
  {
   "cell_type": "code",
   "execution_count": 34,
   "id": "e9961fb7",
   "metadata": {
    "ExecuteTime": {
     "end_time": "2023-03-31T02:22:00.268286Z",
     "start_time": "2023-03-31T02:22:00.060434Z"
    }
   },
   "outputs": [],
   "source": [
    "# calculate propensity scores/logits\n",
    "psm.logistic_ps(balance = True)"
   ]
  },
  {
   "cell_type": "code",
   "execution_count": 35,
   "id": "21cadd3c",
   "metadata": {
    "ExecuteTime": {
     "end_time": "2023-03-31T02:22:01.071501Z",
     "start_time": "2023-03-31T02:22:01.055123Z"
    },
    "scrolled": true
   },
   "outputs": [
    {
     "data": {
      "text/html": [
       "<div>\n",
       "<style scoped>\n",
       "    .dataframe tbody tr th:only-of-type {\n",
       "        vertical-align: middle;\n",
       "    }\n",
       "\n",
       "    .dataframe tbody tr th {\n",
       "        vertical-align: top;\n",
       "    }\n",
       "\n",
       "    .dataframe thead th {\n",
       "        text-align: right;\n",
       "    }\n",
       "</style>\n",
       "<table border=\"1\" class=\"dataframe\">\n",
       "  <thead>\n",
       "    <tr style=\"text-align: right;\">\n",
       "      <th></th>\n",
       "      <th>deal_id</th>\n",
       "      <th>prom_length</th>\n",
       "      <th>price</th>\n",
       "      <th>discount_pct</th>\n",
       "      <th>coupon_duration</th>\n",
       "      <th>featured</th>\n",
       "      <th>limited_supply</th>\n",
       "      <th>fb_likes</th>\n",
       "      <th>quantity_sold</th>\n",
       "      <th>revenue</th>\n",
       "      <th>propensity_score</th>\n",
       "      <th>propensity_logit</th>\n",
       "      <th>treatment</th>\n",
       "    </tr>\n",
       "  </thead>\n",
       "  <tbody>\n",
       "    <tr>\n",
       "      <th>0</th>\n",
       "      <td>heli-flights</td>\n",
       "      <td>4</td>\n",
       "      <td>99</td>\n",
       "      <td>51</td>\n",
       "      <td>185</td>\n",
       "      <td>1</td>\n",
       "      <td>1</td>\n",
       "      <td>290</td>\n",
       "      <td>540</td>\n",
       "      <td>53460</td>\n",
       "      <td>0.623778</td>\n",
       "      <td>0.505614</td>\n",
       "      <td>1</td>\n",
       "    </tr>\n",
       "    <tr>\n",
       "      <th>1</th>\n",
       "      <td>gl-champion-series-tennis-electric-factory</td>\n",
       "      <td>2</td>\n",
       "      <td>95</td>\n",
       "      <td>41</td>\n",
       "      <td>9</td>\n",
       "      <td>0</td>\n",
       "      <td>1</td>\n",
       "      <td>43</td>\n",
       "      <td>190</td>\n",
       "      <td>18050</td>\n",
       "      <td>0.348422</td>\n",
       "      <td>-0.625981</td>\n",
       "      <td>1</td>\n",
       "    </tr>\n",
       "    <tr>\n",
       "      <th>2</th>\n",
       "      <td>realm-of-terror-horror-experience</td>\n",
       "      <td>3</td>\n",
       "      <td>25</td>\n",
       "      <td>50</td>\n",
       "      <td>38</td>\n",
       "      <td>0</td>\n",
       "      <td>1</td>\n",
       "      <td>208</td>\n",
       "      <td>380</td>\n",
       "      <td>9500</td>\n",
       "      <td>0.502058</td>\n",
       "      <td>0.008230</td>\n",
       "      <td>1</td>\n",
       "    </tr>\n",
       "    <tr>\n",
       "      <th>3</th>\n",
       "      <td>newport-gourmet</td>\n",
       "      <td>3</td>\n",
       "      <td>50</td>\n",
       "      <td>50</td>\n",
       "      <td>369</td>\n",
       "      <td>0</td>\n",
       "      <td>1</td>\n",
       "      <td>16</td>\n",
       "      <td>90</td>\n",
       "      <td>4500</td>\n",
       "      <td>0.722928</td>\n",
       "      <td>0.959031</td>\n",
       "      <td>1</td>\n",
       "    </tr>\n",
       "    <tr>\n",
       "      <th>4</th>\n",
       "      <td>the-clayroom</td>\n",
       "      <td>4</td>\n",
       "      <td>25</td>\n",
       "      <td>52</td>\n",
       "      <td>185</td>\n",
       "      <td>0</td>\n",
       "      <td>1</td>\n",
       "      <td>85</td>\n",
       "      <td>580</td>\n",
       "      <td>14500</td>\n",
       "      <td>0.576625</td>\n",
       "      <td>0.308932</td>\n",
       "      <td>1</td>\n",
       "    </tr>\n",
       "    <tr>\n",
       "      <th>...</th>\n",
       "      <td>...</td>\n",
       "      <td>...</td>\n",
       "      <td>...</td>\n",
       "      <td>...</td>\n",
       "      <td>...</td>\n",
       "      <td>...</td>\n",
       "      <td>...</td>\n",
       "      <td>...</td>\n",
       "      <td>...</td>\n",
       "      <td>...</td>\n",
       "      <td>...</td>\n",
       "      <td>...</td>\n",
       "      <td>...</td>\n",
       "    </tr>\n",
       "    <tr>\n",
       "      <th>705</th>\n",
       "      <td>whitewater-challengers-9</td>\n",
       "      <td>5</td>\n",
       "      <td>45</td>\n",
       "      <td>54</td>\n",
       "      <td>164</td>\n",
       "      <td>0</td>\n",
       "      <td>1</td>\n",
       "      <td>110</td>\n",
       "      <td>170</td>\n",
       "      <td>7650</td>\n",
       "      <td>0.388755</td>\n",
       "      <td>-0.452548</td>\n",
       "      <td>0</td>\n",
       "    </tr>\n",
       "    <tr>\n",
       "      <th>706</th>\n",
       "      <td>world-domination-events</td>\n",
       "      <td>8</td>\n",
       "      <td>149</td>\n",
       "      <td>67</td>\n",
       "      <td>52</td>\n",
       "      <td>0</td>\n",
       "      <td>1</td>\n",
       "      <td>116</td>\n",
       "      <td>150</td>\n",
       "      <td>22350</td>\n",
       "      <td>0.015171</td>\n",
       "      <td>-4.173078</td>\n",
       "      <td>0</td>\n",
       "    </tr>\n",
       "    <tr>\n",
       "      <th>707</th>\n",
       "      <td>xtreme-xperience-chicago</td>\n",
       "      <td>4</td>\n",
       "      <td>159</td>\n",
       "      <td>60</td>\n",
       "      <td>29</td>\n",
       "      <td>0</td>\n",
       "      <td>1</td>\n",
       "      <td>104</td>\n",
       "      <td>130</td>\n",
       "      <td>20670</td>\n",
       "      <td>0.012238</td>\n",
       "      <td>-4.390921</td>\n",
       "      <td>0</td>\n",
       "    </tr>\n",
       "    <tr>\n",
       "      <th>708</th>\n",
       "      <td>your-neighborhood-theatre</td>\n",
       "      <td>4</td>\n",
       "      <td>19</td>\n",
       "      <td>51</td>\n",
       "      <td>187</td>\n",
       "      <td>0</td>\n",
       "      <td>1</td>\n",
       "      <td>93</td>\n",
       "      <td>1000</td>\n",
       "      <td>19000</td>\n",
       "      <td>0.587248</td>\n",
       "      <td>0.352601</td>\n",
       "      <td>0</td>\n",
       "    </tr>\n",
       "    <tr>\n",
       "      <th>709</th>\n",
       "      <td>yu-kids-island</td>\n",
       "      <td>3</td>\n",
       "      <td>28</td>\n",
       "      <td>53</td>\n",
       "      <td>99</td>\n",
       "      <td>0</td>\n",
       "      <td>1</td>\n",
       "      <td>214</td>\n",
       "      <td>820</td>\n",
       "      <td>22960</td>\n",
       "      <td>0.635998</td>\n",
       "      <td>0.558038</td>\n",
       "      <td>0</td>\n",
       "    </tr>\n",
       "  </tbody>\n",
       "</table>\n",
       "<p>710 rows × 13 columns</p>\n",
       "</div>"
      ],
      "text/plain": [
       "                                        deal_id  prom_length  price  \\\n",
       "0                                  heli-flights            4     99   \n",
       "1    gl-champion-series-tennis-electric-factory            2     95   \n",
       "2             realm-of-terror-horror-experience            3     25   \n",
       "3                               newport-gourmet            3     50   \n",
       "4                                  the-clayroom            4     25   \n",
       "..                                          ...          ...    ...   \n",
       "705                    whitewater-challengers-9            5     45   \n",
       "706                     world-domination-events            8    149   \n",
       "707                    xtreme-xperience-chicago            4    159   \n",
       "708                   your-neighborhood-theatre            4     19   \n",
       "709                              yu-kids-island            3     28   \n",
       "\n",
       "     discount_pct  coupon_duration  featured  limited_supply  fb_likes  \\\n",
       "0              51              185         1               1       290   \n",
       "1              41                9         0               1        43   \n",
       "2              50               38         0               1       208   \n",
       "3              50              369         0               1        16   \n",
       "4              52              185         0               1        85   \n",
       "..            ...              ...       ...             ...       ...   \n",
       "705            54              164         0               1       110   \n",
       "706            67               52         0               1       116   \n",
       "707            60               29         0               1       104   \n",
       "708            51              187         0               1        93   \n",
       "709            53               99         0               1       214   \n",
       "\n",
       "     quantity_sold  revenue  propensity_score  propensity_logit  treatment  \n",
       "0              540    53460          0.623778          0.505614          1  \n",
       "1              190    18050          0.348422         -0.625981          1  \n",
       "2              380     9500          0.502058          0.008230          1  \n",
       "3               90     4500          0.722928          0.959031          1  \n",
       "4              580    14500          0.576625          0.308932          1  \n",
       "..             ...      ...               ...               ...        ...  \n",
       "705            170     7650          0.388755         -0.452548          0  \n",
       "706            150    22350          0.015171         -4.173078          0  \n",
       "707            130    20670          0.012238         -4.390921          0  \n",
       "708           1000    19000          0.587248          0.352601          0  \n",
       "709            820    22960          0.635998          0.558038          0  \n",
       "\n",
       "[710 rows x 13 columns]"
      ]
     },
     "execution_count": 35,
     "metadata": {},
     "output_type": "execute_result"
    }
   ],
   "source": [
    "# view propensity score/logit\n",
    "psm.predicted_data"
   ]
  },
  {
   "cell_type": "code",
   "execution_count": 36,
   "id": "b966b6eb",
   "metadata": {
    "ExecuteTime": {
     "end_time": "2023-03-31T02:22:11.491031Z",
     "start_time": "2023-03-31T02:22:11.358692Z"
    }
   },
   "outputs": [],
   "source": [
    "psm.knn_matched(matcher= 'propensity_logit', replacement= False, caliper= None)"
   ]
  },
  {
   "cell_type": "code",
   "execution_count": 45,
   "id": "d9e27e3e",
   "metadata": {
    "ExecuteTime": {
     "end_time": "2023-03-31T02:30:32.695733Z",
     "start_time": "2023-03-31T02:30:32.476018Z"
    }
   },
   "outputs": [
    {
     "data": {
      "image/png": "[encoded data removed]",
      "text/plain": [
       "<Figure size 720x576 with 1 Axes>"
      ]
     },
     "metadata": {},
     "output_type": "display_data"
    }
   ],
   "source": [
    "psm.plot_match(Title= 'Side by side matched controls', \\\n",
    "               Ylabel= 'Number of X', Xlabel= 'Propensity logit', names= ['treatment', 'control'], save= False)"
   ]
  },
  {
   "cell_type": "code",
   "execution_count": 44,
   "id": "fd776cf0",
   "metadata": {
    "ExecuteTime": {
     "end_time": "2023-03-31T02:28:24.571960Z",
     "start_time": "2023-03-31T02:28:24.561794Z"
    }
   },
   "outputs": [
    {
     "data": {
      "text/html": [
       "<div>\n",
       "<style scoped>\n",
       "    .dataframe tbody tr th:only-of-type {\n",
       "        vertical-align: middle;\n",
       "    }\n",
       "\n",
       "    .dataframe tbody tr th {\n",
       "        vertical-align: top;\n",
       "    }\n",
       "\n",
       "    .dataframe thead th {\n",
       "        text-align: right;\n",
       "    }\n",
       "</style>\n",
       "<table border=\"1\" class=\"dataframe\">\n",
       "  <thead>\n",
       "    <tr style=\"text-align: right;\">\n",
       "      <th></th>\n",
       "      <th>Variable</th>\n",
       "      <th>matching</th>\n",
       "      <th>Effect Size</th>\n",
       "    </tr>\n",
       "  </thead>\n",
       "  <tbody>\n",
       "    <tr>\n",
       "      <th>0</th>\n",
       "      <td>prom_length</td>\n",
       "      <td>before</td>\n",
       "      <td>0.328313</td>\n",
       "    </tr>\n",
       "    <tr>\n",
       "      <th>1</th>\n",
       "      <td>prom_length</td>\n",
       "      <td>after</td>\n",
       "      <td>0.252948</td>\n",
       "    </tr>\n",
       "    <tr>\n",
       "      <th>2</th>\n",
       "      <td>price</td>\n",
       "      <td>before</td>\n",
       "      <td>0.233573</td>\n",
       "    </tr>\n",
       "    <tr>\n",
       "      <th>3</th>\n",
       "      <td>price</td>\n",
       "      <td>after</td>\n",
       "      <td>0.004023</td>\n",
       "    </tr>\n",
       "    <tr>\n",
       "      <th>4</th>\n",
       "      <td>discount_pct</td>\n",
       "      <td>before</td>\n",
       "      <td>0.035411</td>\n",
       "    </tr>\n",
       "    <tr>\n",
       "      <th>5</th>\n",
       "      <td>discount_pct</td>\n",
       "      <td>after</td>\n",
       "      <td>0.299737</td>\n",
       "    </tr>\n",
       "    <tr>\n",
       "      <th>6</th>\n",
       "      <td>coupon_duration</td>\n",
       "      <td>before</td>\n",
       "      <td>0.282300</td>\n",
       "    </tr>\n",
       "    <tr>\n",
       "      <th>7</th>\n",
       "      <td>coupon_duration</td>\n",
       "      <td>after</td>\n",
       "      <td>0.015672</td>\n",
       "    </tr>\n",
       "    <tr>\n",
       "      <th>8</th>\n",
       "      <td>featured</td>\n",
       "      <td>before</td>\n",
       "      <td>0.119074</td>\n",
       "    </tr>\n",
       "    <tr>\n",
       "      <th>9</th>\n",
       "      <td>featured</td>\n",
       "      <td>after</td>\n",
       "      <td>0.080893</td>\n",
       "    </tr>\n",
       "    <tr>\n",
       "      <th>10</th>\n",
       "      <td>limited_supply</td>\n",
       "      <td>before</td>\n",
       "      <td>0.198547</td>\n",
       "    </tr>\n",
       "    <tr>\n",
       "      <th>11</th>\n",
       "      <td>limited_supply</td>\n",
       "      <td>after</td>\n",
       "      <td>0.008707</td>\n",
       "    </tr>\n",
       "    <tr>\n",
       "      <th>12</th>\n",
       "      <td>fb_likes</td>\n",
       "      <td>before</td>\n",
       "      <td>0.235855</td>\n",
       "    </tr>\n",
       "    <tr>\n",
       "      <th>13</th>\n",
       "      <td>fb_likes</td>\n",
       "      <td>after</td>\n",
       "      <td>0.029043</td>\n",
       "    </tr>\n",
       "    <tr>\n",
       "      <th>14</th>\n",
       "      <td>quantity_sold</td>\n",
       "      <td>before</td>\n",
       "      <td>0.267669</td>\n",
       "    </tr>\n",
       "    <tr>\n",
       "      <th>15</th>\n",
       "      <td>quantity_sold</td>\n",
       "      <td>after</td>\n",
       "      <td>0.005172</td>\n",
       "    </tr>\n",
       "    <tr>\n",
       "      <th>16</th>\n",
       "      <td>revenue</td>\n",
       "      <td>before</td>\n",
       "      <td>0.167476</td>\n",
       "    </tr>\n",
       "    <tr>\n",
       "      <th>17</th>\n",
       "      <td>revenue</td>\n",
       "      <td>after</td>\n",
       "      <td>0.006657</td>\n",
       "    </tr>\n",
       "  </tbody>\n",
       "</table>\n",
       "</div>"
      ],
      "text/plain": [
       "           Variable matching  Effect Size\n",
       "0       prom_length   before     0.328313\n",
       "1       prom_length    after     0.252948\n",
       "2             price   before     0.233573\n",
       "3             price    after     0.004023\n",
       "4      discount_pct   before     0.035411\n",
       "5      discount_pct    after     0.299737\n",
       "6   coupon_duration   before     0.282300\n",
       "7   coupon_duration    after     0.015672\n",
       "8          featured   before     0.119074\n",
       "9          featured    after     0.080893\n",
       "10   limited_supply   before     0.198547\n",
       "11   limited_supply    after     0.008707\n",
       "12         fb_likes   before     0.235855\n",
       "13         fb_likes    after     0.029043\n",
       "14    quantity_sold   before     0.267669\n",
       "15    quantity_sold    after     0.005172\n",
       "16          revenue   before     0.167476\n",
       "17          revenue    after     0.006657"
      ]
     },
     "execution_count": 44,
     "metadata": {},
     "output_type": "execute_result"
    }
   ],
   "source": [
    "psm.effect_size"
   ]
  },
  {
   "cell_type": "code",
   "execution_count": 38,
   "id": "012d27a8",
   "metadata": {
    "ExecuteTime": {
     "end_time": "2023-03-31T02:25:50.157220Z",
     "start_time": "2023-03-31T02:25:49.914113Z"
    }
   },
   "outputs": [
    {
     "data": {
      "image/png": "[encoded data removed]",
      "text/plain": [
       "<Figure size 720x576 with 1 Axes>"
      ]
     },
     "metadata": {},
     "output_type": "display_data"
    }
   ],
   "source": [
    "psm.effect_size_plot(save= False)"
   ]
  },
  {
   "cell_type": "code",
   "execution_count": 41,
   "id": "2701248d",
   "metadata": {
    "ExecuteTime": {
     "end_time": "2023-03-31T02:27:11.387180Z",
     "start_time": "2023-03-31T02:27:11.382880Z"
    }
   },
   "outputs": [
    {
     "data": {
      "text/plain": [
       "431"
      ]
     },
     "execution_count": 41,
     "metadata": {},
     "output_type": "execute_result"
    }
   ],
   "source": [
    "len(psm.df_matched)"
   ]
  },
  {
   "cell_type": "code",
   "execution_count": 42,
   "id": "e0322b78",
   "metadata": {
    "ExecuteTime": {
     "end_time": "2023-03-31T02:27:32.205777Z",
     "start_time": "2023-03-31T02:27:32.203194Z"
    }
   },
   "outputs": [],
   "source": [
    "gpn_matched = psm.df_matched"
   ]
  },
  {
   "cell_type": "code",
   "execution_count": 43,
   "id": "09e654e6",
   "metadata": {
    "ExecuteTime": {
     "end_time": "2023-03-31T02:27:44.235857Z",
     "start_time": "2023-03-31T02:27:44.226032Z"
    }
   },
   "outputs": [
    {
     "data": {
      "text/html": [
       "<div>\n",
       "<style scoped>\n",
       "    .dataframe tbody tr th:only-of-type {\n",
       "        vertical-align: middle;\n",
       "    }\n",
       "\n",
       "    .dataframe tbody tr th {\n",
       "        vertical-align: top;\n",
       "    }\n",
       "\n",
       "    .dataframe thead th {\n",
       "        text-align: right;\n",
       "    }\n",
       "</style>\n",
       "<table border=\"1\" class=\"dataframe\">\n",
       "  <thead>\n",
       "    <tr style=\"text-align: right;\">\n",
       "      <th></th>\n",
       "      <th>deal_id</th>\n",
       "      <th>matched_ID</th>\n",
       "    </tr>\n",
       "  </thead>\n",
       "  <tbody>\n",
       "    <tr>\n",
       "      <th>0</th>\n",
       "      <td>heli-flights</td>\n",
       "      <td>the-butterfly-place-boston</td>\n",
       "    </tr>\n",
       "    <tr>\n",
       "      <th>1</th>\n",
       "      <td>gl-champion-series-tennis-electric-factory</td>\n",
       "      <td>gymboree-play-music-7</td>\n",
       "    </tr>\n",
       "    <tr>\n",
       "      <th>2</th>\n",
       "      <td>realm-of-terror-horror-experience</td>\n",
       "      <td>museum-city-new-york</td>\n",
       "    </tr>\n",
       "    <tr>\n",
       "      <th>3</th>\n",
       "      <td>newport-gourmet</td>\n",
       "      <td>gt-dream-cars-new-york</td>\n",
       "    </tr>\n",
       "    <tr>\n",
       "      <th>4</th>\n",
       "      <td>the-clayroom</td>\n",
       "      <td>us-rafting-2</td>\n",
       "    </tr>\n",
       "    <tr>\n",
       "      <th>...</th>\n",
       "      <td>...</td>\n",
       "      <td>...</td>\n",
       "    </tr>\n",
       "    <tr>\n",
       "      <th>211</th>\n",
       "      <td>gl-windy-city-circus-1</td>\n",
       "      <td>gl-north-plan-theater-wit</td>\n",
       "    </tr>\n",
       "    <tr>\n",
       "      <th>212</th>\n",
       "      <td>lets-go-paragliding</td>\n",
       "      <td>calvo-studio-1</td>\n",
       "    </tr>\n",
       "    <tr>\n",
       "      <th>213</th>\n",
       "      <td>spare-time-chicago-3</td>\n",
       "      <td>national-vietnam-veterans-art-museum</td>\n",
       "    </tr>\n",
       "    <tr>\n",
       "      <th>214</th>\n",
       "      <td>dc-gmt-slice-chicago-tours</td>\n",
       "      <td>gl-riverfront-theatre-chicago</td>\n",
       "    </tr>\n",
       "    <tr>\n",
       "      <th>215</th>\n",
       "      <td>slice-of-chicago-pizza-tours-3</td>\n",
       "      <td>boston-night-tour-salem</td>\n",
       "    </tr>\n",
       "  </tbody>\n",
       "</table>\n",
       "<p>216 rows × 2 columns</p>\n",
       "</div>"
      ],
      "text/plain": [
       "                                        deal_id  \\\n",
       "0                                  heli-flights   \n",
       "1    gl-champion-series-tennis-electric-factory   \n",
       "2             realm-of-terror-horror-experience   \n",
       "3                               newport-gourmet   \n",
       "4                                  the-clayroom   \n",
       "..                                          ...   \n",
       "211                      gl-windy-city-circus-1   \n",
       "212                         lets-go-paragliding   \n",
       "213                        spare-time-chicago-3   \n",
       "214                  dc-gmt-slice-chicago-tours   \n",
       "215              slice-of-chicago-pizza-tours-3   \n",
       "\n",
       "                               matched_ID  \n",
       "0              the-butterfly-place-boston  \n",
       "1                   gymboree-play-music-7  \n",
       "2                    museum-city-new-york  \n",
       "3                  gt-dream-cars-new-york  \n",
       "4                            us-rafting-2  \n",
       "..                                    ...  \n",
       "211             gl-north-plan-theater-wit  \n",
       "212                        calvo-studio-1  \n",
       "213  national-vietnam-veterans-art-museum  \n",
       "214         gl-riverfront-theatre-chicago  \n",
       "215               boston-night-tour-salem  \n",
       "\n",
       "[216 rows x 2 columns]"
      ]
     },
     "execution_count": 43,
     "metadata": {},
     "output_type": "execute_result"
    }
   ],
   "source": [
    "psm.matched_ids"
   ]
  },
  {
   "cell_type": "code",
   "execution_count": null,
   "id": "39684363",
   "metadata": {},
   "outputs": [],
   "source": []
  }
 ],
 "metadata": {
  "kernelspec": {
   "display_name": "Python [conda env:learn-env]",
   "language": "python",
   "name": "conda-env-learn-env-py"
  },
  "language_info": {
   "codemirror_mode": {
    "name": "ipython",
    "version": 3
   },
   "file_extension": ".py",
   "mimetype": "text/x-python",
   "name": "python",
   "nbconvert_exporter": "python",
   "pygments_lexer": "ipython3",
   "version": "3.8.5"
  },
  "toc": {
   "base_numbering": 1,
   "nav_menu": {},
   "number_sections": true,
   "sideBar": true,
   "skip_h1_title": true,
   "title_cell": "Table of Contents",
   "title_sidebar": "Contents",
   "toc_cell": false,
   "toc_position": {},
   "toc_section_display": true,
   "toc_window_display": false
  },
  "varInspector": {
   "cols": {
    "lenName": 16,
    "lenType": 16,
    "lenVar": 40
   },
   "kernels_config": {
    "python": {
     "delete_cmd_postfix": "",
     "delete_cmd_prefix": "del ",
     "library": "var_list.py",
     "varRefreshCmd": "print(var_dic_list())"
    },
    "r": {
     "delete_cmd_postfix": ") ",
     "delete_cmd_prefix": "rm(",
     "library": "var_list.r",
     "varRefreshCmd": "cat(var_dic_list()) "
    }
   },
   "types_to_exclude": [
    "module",
    "function",
    "builtin_function_or_method",
    "instance",
    "_Feature"
   ],
   "window_display": false
  }
 },
 "nbformat": 4,
 "nbformat_minor": 5
}
